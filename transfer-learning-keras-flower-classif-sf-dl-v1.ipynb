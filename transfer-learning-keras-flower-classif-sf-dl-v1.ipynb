{
 "cells": [
  {
   "cell_type": "markdown",
   "metadata": {},
   "source": [
    "# Transfer learning в решении задачи классификации цветов\n",
    "Датасет классификации цветов (http://www.robots.ox.ac.uk/~vgg/data/flowers/102/index.html) состоит из 102 видов цветов встречаемых в Великобритании. Для каждого класса есть от 40 до 258 примеров, чего мало для обучения с нуля:\n",
    "<img src=\"http://bennycheung.github.io/images/deep-transfer-learning-on-small-dataset/flower_train_samples_700.jpg\" style=\"width:50%\">"
   ]
  },
  {
   "cell_type": "code",
   "execution_count": 6,
   "metadata": {
    "_kg_hide-input": false,
    "_kg_hide-output": true,
    "execution": {
     "iopub.execute_input": "2022-03-22T13:12:07.361550Z",
     "iopub.status.busy": "2022-03-22T13:12:07.361226Z",
     "iopub.status.idle": "2022-03-22T13:12:14.639427Z",
     "shell.execute_reply": "2022-03-22T13:12:14.638368Z",
     "shell.execute_reply.started": "2022-03-22T13:12:07.361520Z"
    }
   },
   "outputs": [],
   "source": [
    "#!pip install tensorflow==2.1"
   ]
  },
  {
   "cell_type": "code",
   "execution_count": 1,
   "metadata": {
    "_cell_guid": "79c7e3d0-c299-4dcb-8224-4455121ee9b0",
    "_kg_hide-input": true,
    "_uuid": "d629ff2d2480ee46fbb7e2d37f6b5fab8052498a",
    "execution": {
     "iopub.execute_input": "2022-03-22T13:12:14.643352Z",
     "iopub.status.busy": "2022-03-22T13:12:14.642973Z",
     "iopub.status.idle": "2022-03-22T13:12:14.687268Z",
     "shell.execute_reply": "2022-03-22T13:12:14.685910Z",
     "shell.execute_reply.started": "2022-03-22T13:12:14.643293Z"
    }
   },
   "outputs": [
    {
     "name": "stdout",
     "output_type": "stream",
     "text": [
      "Init Plugin\n",
      "Init Graph Optimizer\n",
      "Init Kernel\n"
     ]
    },
    {
     "ename": "FileNotFoundError",
     "evalue": "[Errno 2] No such file or directory: '../input'",
     "output_type": "error",
     "traceback": [
      "\u001b[0;31m---------------------------------------------------------------------------\u001b[0m",
      "\u001b[0;31mFileNotFoundError\u001b[0m                         Traceback (most recent call last)",
      "\u001b[0;32m/var/folders/_q/03tkk3nx5xq63qd_bldrts5h0000gn/T/ipykernel_9178/2860974344.py\u001b[0m in \u001b[0;36m<module>\u001b[0;34m\u001b[0m\n\u001b[1;32m     36\u001b[0m \u001b[0mget_ipython\u001b[0m\u001b[0;34m(\u001b[0m\u001b[0;34m)\u001b[0m\u001b[0;34m.\u001b[0m\u001b[0mrun_line_magic\u001b[0m\u001b[0;34m(\u001b[0m\u001b[0;34m'matplotlib'\u001b[0m\u001b[0;34m,\u001b[0m \u001b[0;34m'inline'\u001b[0m\u001b[0;34m)\u001b[0m\u001b[0;34m\u001b[0m\u001b[0;34m\u001b[0m\u001b[0m\n\u001b[1;32m     37\u001b[0m \u001b[0;34m\u001b[0m\u001b[0m\n\u001b[0;32m---> 38\u001b[0;31m \u001b[0mprint\u001b[0m\u001b[0;34m(\u001b[0m\u001b[0mos\u001b[0m\u001b[0;34m.\u001b[0m\u001b[0mlistdir\u001b[0m\u001b[0;34m(\u001b[0m\u001b[0;34m\"../input\"\u001b[0m\u001b[0;34m)\u001b[0m\u001b[0;34m)\u001b[0m\u001b[0;34m\u001b[0m\u001b[0;34m\u001b[0m\u001b[0m\n\u001b[0m\u001b[1;32m     39\u001b[0m \u001b[0mprint\u001b[0m\u001b[0;34m(\u001b[0m\u001b[0;34m'Python       :'\u001b[0m\u001b[0;34m,\u001b[0m \u001b[0msys\u001b[0m\u001b[0;34m.\u001b[0m\u001b[0mversion\u001b[0m\u001b[0;34m.\u001b[0m\u001b[0msplit\u001b[0m\u001b[0;34m(\u001b[0m\u001b[0;34m'\\n'\u001b[0m\u001b[0;34m)\u001b[0m\u001b[0;34m[\u001b[0m\u001b[0;36m0\u001b[0m\u001b[0;34m]\u001b[0m\u001b[0;34m)\u001b[0m\u001b[0;34m\u001b[0m\u001b[0;34m\u001b[0m\u001b[0m\n\u001b[1;32m     40\u001b[0m \u001b[0mprint\u001b[0m\u001b[0;34m(\u001b[0m\u001b[0;34m'Numpy        :'\u001b[0m\u001b[0;34m,\u001b[0m \u001b[0mnp\u001b[0m\u001b[0;34m.\u001b[0m\u001b[0m__version__\u001b[0m\u001b[0;34m)\u001b[0m\u001b[0;34m\u001b[0m\u001b[0;34m\u001b[0m\u001b[0m\n",
      "\u001b[0;31mFileNotFoundError\u001b[0m: [Errno 2] No such file or directory: '../input'"
     ]
    }
   ],
   "source": [
    "import numpy as np\n",
    "import pandas as pd\n",
    "import matplotlib.pyplot as plt\n",
    "import seaborn as sns\n",
    "import pickle\n",
    "import scipy.io\n",
    "import tarfile\n",
    "import csv\n",
    "import sys\n",
    "import os\n",
    "\n",
    "\n",
    "import tensorflow as tf\n",
    "import tensorflow.keras as keras\n",
    "import tensorflow.keras.models as M\n",
    "import tensorflow.keras.layers as L\n",
    "import tensorflow.keras.backend as K\n",
    "import tensorflow.keras.callbacks as C\n",
    "from tensorflow.keras.preprocessing import image\n",
    "from tensorflow.keras.preprocessing.image import ImageDataGenerator\n",
    "from tensorflow.keras.callbacks import LearningRateScheduler, ModelCheckpoint, EarlyStopping\n",
    "from tensorflow.keras.callbacks import Callback\n",
    "#from tensorflow.keras.regularizers import l2\n",
    "from tensorflow.keras import optimizers\n",
    "#from tf.keras.applications.inception_v3 import Inception_v3\n",
    "\n",
    "from sklearn.model_selection import train_test_split\n",
    "\n",
    "import PIL\n",
    "from PIL import ImageOps, ImageFilter\n",
    "#увеличим дефолтный размер графиков\n",
    "from pylab import rcParams\n",
    "rcParams['figure.figsize'] = 10, 5\n",
    "#графики в svg выглядят более четкими\n",
    "%config InlineBackend.figure_format = 'svg' \n",
    "%matplotlib inline\n",
    "\n",
    "print(os.listdir(\"../input\"))\n",
    "print('Python       :', sys.version.split('\\n')[0])\n",
    "print('Numpy        :', np.__version__)\n",
    "print('Tensorflow   :', tf.__version__)\n",
    "print('Keras        :', keras.__version__)"
   ]
  },
  {
   "cell_type": "code",
   "execution_count": 8,
   "metadata": {
    "execution": {
     "iopub.execute_input": "2022-03-22T13:12:14.689653Z",
     "iopub.status.busy": "2022-03-22T13:12:14.689279Z",
     "iopub.status.idle": "2022-03-22T13:12:14.708062Z",
     "shell.execute_reply": "2022-03-22T13:12:14.707194Z",
     "shell.execute_reply.started": "2022-03-22T13:12:14.689610Z"
    }
   },
   "outputs": [],
   "source": [
    "# Проверяем что у нас работает GPU\n",
    "tf.test.gpu_device_name()"
   ]
  },
  {
   "cell_type": "markdown",
   "metadata": {},
   "source": [
    "Работаем уже с Tensorflow 2.1 но для воспроизводимости сохраним версии всех пакетов"
   ]
  },
  {
   "cell_type": "code",
   "execution_count": 9,
   "metadata": {
    "_kg_hide-input": true,
    "execution": {
     "iopub.execute_input": "2022-03-22T13:12:14.711516Z",
     "iopub.status.busy": "2022-03-22T13:12:14.710928Z",
     "iopub.status.idle": "2022-03-22T13:12:16.862522Z",
     "shell.execute_reply": "2022-03-22T13:12:16.861251Z",
     "shell.execute_reply.started": "2022-03-22T13:12:14.711425Z"
    }
   },
   "outputs": [],
   "source": [
    "!pip freeze > requirements.txt"
   ]
  },
  {
   "cell_type": "markdown",
   "metadata": {},
   "source": [
    "# Setup"
   ]
  },
  {
   "cell_type": "code",
   "execution_count": 10,
   "metadata": {
    "execution": {
     "iopub.execute_input": "2022-03-22T13:12:16.868965Z",
     "iopub.status.busy": "2022-03-22T13:12:16.868652Z",
     "iopub.status.idle": "2022-03-22T13:12:16.877587Z",
     "shell.execute_reply": "2022-03-22T13:12:16.875869Z",
     "shell.execute_reply.started": "2022-03-22T13:12:16.868933Z"
    }
   },
   "outputs": [],
   "source": [
    "# В сетап выношу основные настройки, так удобней их перебирать в дальнейшем\n",
    "\n",
    "EPOCHS               = 25\n",
    "BATCH_SIZE           = 128\n",
    "LR                   = 1e-3\n",
    "VAL_SPLIT            = 0.2\n",
    "\n",
    "CLASS_NUM            = 102\n",
    "IMG_SIZE             = 128\n",
    "IMG_CHANNELS         = 3\n",
    "input_shape          = (IMG_SIZE, IMG_SIZE, IMG_CHANNELS)\n",
    "\n",
    "DATA_PATH = '../input/flower-dataset-102/'\n",
    "PATH = \"../working/flower/\""
   ]
  },
  {
   "cell_type": "code",
   "execution_count": 11,
   "metadata": {
    "_kg_hide-input": true,
    "execution": {
     "iopub.execute_input": "2022-03-22T13:12:16.883277Z",
     "iopub.status.busy": "2022-03-22T13:12:16.882720Z",
     "iopub.status.idle": "2022-03-22T13:12:16.893245Z",
     "shell.execute_reply": "2022-03-22T13:12:16.892140Z",
     "shell.execute_reply.started": "2022-03-22T13:12:16.883236Z"
    }
   },
   "outputs": [],
   "source": [
    "# Setting seed for reproducibility\n",
    "os.makedirs(PATH,exist_ok=False)\n",
    "\n",
    "RANDOM_SEED = 42\n",
    "np.random.seed(RANDOM_SEED)  \n",
    "PYTHONHASHSEED = 0"
   ]
  },
  {
   "cell_type": "markdown",
   "metadata": {},
   "source": [
    "# Data"
   ]
  },
  {
   "cell_type": "code",
   "execution_count": 12,
   "metadata": {
    "execution": {
     "iopub.execute_input": "2022-03-22T13:12:16.896116Z",
     "iopub.status.busy": "2022-03-22T13:12:16.895389Z",
     "iopub.status.idle": "2022-03-22T13:12:24.255011Z",
     "shell.execute_reply": "2022-03-22T13:12:24.253833Z",
     "shell.execute_reply.started": "2022-03-22T13:12:16.896073Z"
    }
   },
   "outputs": [],
   "source": [
    "# прочитаем все названия файлов прям из архива и таргеты к ним\n",
    "def get_all_filenames(tar_fn):\n",
    "    with tarfile.open(tar_fn) as f:\n",
    "        return [m.name for m in f.getmembers() if m.isfile()]\n",
    "\n",
    "df = pd.DataFrame()\n",
    "df['Id'] = sorted(get_all_filenames(DATA_PATH+\"102flowers.tgz\"))\n",
    "df['Category'] = scipy.io.loadmat(DATA_PATH+'imagelabels.mat')['labels'][0] - 1  # классы (0, 1, 2, ...)\n",
    "df['Category'] = df['Category'].astype(str)"
   ]
  },
  {
   "cell_type": "code",
   "execution_count": 13,
   "metadata": {
    "execution": {
     "iopub.execute_input": "2022-03-22T13:12:24.257346Z",
     "iopub.status.busy": "2022-03-22T13:12:24.257014Z",
     "iopub.status.idle": "2022-03-22T13:12:24.283032Z",
     "shell.execute_reply": "2022-03-22T13:12:24.281841Z",
     "shell.execute_reply.started": "2022-03-22T13:12:24.257303Z"
    }
   },
   "outputs": [],
   "source": [
    "df.head(5)"
   ]
  },
  {
   "cell_type": "code",
   "execution_count": 14,
   "metadata": {
    "execution": {
     "iopub.execute_input": "2022-03-22T13:12:24.286203Z",
     "iopub.status.busy": "2022-03-22T13:12:24.285619Z",
     "iopub.status.idle": "2022-03-22T13:12:24.301453Z",
     "shell.execute_reply": "2022-03-22T13:12:24.299786Z",
     "shell.execute_reply.started": "2022-03-22T13:12:24.286159Z"
    }
   },
   "outputs": [],
   "source": [
    "df['Category'].value_counts()"
   ]
  },
  {
   "cell_type": "code",
   "execution_count": 15,
   "metadata": {
    "execution": {
     "iopub.execute_input": "2022-03-22T13:12:24.304296Z",
     "iopub.status.busy": "2022-03-22T13:12:24.303608Z",
     "iopub.status.idle": "2022-03-22T13:12:24.314995Z",
     "shell.execute_reply": "2022-03-22T13:12:24.313791Z",
     "shell.execute_reply.started": "2022-03-22T13:12:24.304254Z"
    }
   },
   "outputs": [],
   "source": [
    "df['Category'].nunique()"
   ]
  },
  {
   "cell_type": "code",
   "execution_count": 16,
   "metadata": {
    "execution": {
     "iopub.execute_input": "2022-03-22T13:12:24.318069Z",
     "iopub.status.busy": "2022-03-22T13:12:24.317121Z",
     "iopub.status.idle": "2022-03-22T13:12:30.710925Z",
     "shell.execute_reply": "2022-03-22T13:12:30.709886Z",
     "shell.execute_reply.started": "2022-03-22T13:12:24.318023Z"
    }
   },
   "outputs": [],
   "source": [
    "print('Распаковываем картинки')\n",
    "# Will unzip the files so that you can see them..\n",
    "opened_tar = tarfile.open(DATA_PATH+\"102flowers.tgz\")\n",
    "opened_tar.extractall(PATH)\n",
    "\n",
    "print(os.listdir(PATH+'jpg')[:5])"
   ]
  },
  {
   "cell_type": "code",
   "execution_count": 17,
   "metadata": {
    "_kg_hide-input": true,
    "execution": {
     "iopub.execute_input": "2022-03-22T13:12:30.713347Z",
     "iopub.status.busy": "2022-03-22T13:12:30.712664Z",
     "iopub.status.idle": "2022-03-22T13:12:31.773091Z",
     "shell.execute_reply": "2022-03-22T13:12:31.771991Z",
     "shell.execute_reply.started": "2022-03-22T13:12:30.713301Z"
    }
   },
   "outputs": [],
   "source": [
    "print('Пример картинок (random sample)')\n",
    "plt.figure(figsize=(12,8))\n",
    "\n",
    "random_image = df.sample(n=9)\n",
    "random_image_paths = random_image['Id'].values\n",
    "random_image_cat = random_image['Category'].values\n",
    "\n",
    "for index, path in enumerate(random_image_paths):\n",
    "    im = PIL.Image.open(PATH+path)\n",
    "    plt.subplot(3,3, index+1)\n",
    "    plt.imshow(im)\n",
    "    plt.title('Class: '+str(random_image_cat[index]))\n",
    "    plt.axis('off')\n",
    "plt.show()"
   ]
  },
  {
   "cell_type": "code",
   "execution_count": 18,
   "metadata": {
    "execution": {
     "iopub.execute_input": "2022-03-22T13:12:31.775007Z",
     "iopub.status.busy": "2022-03-22T13:12:31.774581Z",
     "iopub.status.idle": "2022-03-22T13:12:32.575106Z",
     "shell.execute_reply": "2022-03-22T13:12:32.574118Z",
     "shell.execute_reply.started": "2022-03-22T13:12:31.774950Z"
    }
   },
   "outputs": [],
   "source": [
    "# убедимся что метки классов подгрузились верно\n",
    "print('Пример картинок (random sample)')\n",
    "plt.figure(figsize=(12,8))\n",
    "\n",
    "random_image = df[df['Category']=='1'].sample(n=9)\n",
    "random_image_paths = random_image['Id'].values\n",
    "random_image_cat = random_image['Category'].values\n",
    "\n",
    "for index, path in enumerate(random_image_paths):\n",
    "    im = PIL.Image.open(PATH+path)\n",
    "    plt.subplot(3,3, index+1)\n",
    "    plt.imshow(im)\n",
    "    plt.title('Class: '+str(random_image_cat[index]))\n",
    "    plt.axis('off')\n",
    "plt.show()"
   ]
  },
  {
   "cell_type": "code",
   "execution_count": 19,
   "metadata": {
    "execution": {
     "iopub.execute_input": "2022-03-22T13:12:32.577658Z",
     "iopub.status.busy": "2022-03-22T13:12:32.577276Z",
     "iopub.status.idle": "2022-03-22T13:12:32.850218Z",
     "shell.execute_reply": "2022-03-22T13:12:32.849186Z",
     "shell.execute_reply.started": "2022-03-22T13:12:32.577615Z"
    }
   },
   "outputs": [],
   "source": [
    "# как видим изображения имеют разный размер\n",
    "image = PIL.Image.open(PATH+path)\n",
    "imgplot = plt.imshow(image)\n",
    "plt.show()\n",
    "image.size"
   ]
  },
  {
   "cell_type": "markdown",
   "metadata": {},
   "source": [
    " ## Stratify Split"
   ]
  },
  {
   "cell_type": "code",
   "execution_count": 20,
   "metadata": {
    "execution": {
     "iopub.execute_input": "2022-03-22T13:12:32.852412Z",
     "iopub.status.busy": "2022-03-22T13:12:32.851869Z",
     "iopub.status.idle": "2022-03-22T13:12:32.896624Z",
     "shell.execute_reply": "2022-03-22T13:12:32.895706Z",
     "shell.execute_reply.started": "2022-03-22T13:12:32.852367Z"
    }
   },
   "outputs": [],
   "source": [
    "# трейн / тест\n",
    "train_files, test_files, train_labels, test_labels = \\\n",
    "    train_test_split(df['Id'], df['Category'], test_size=0.2, random_state=42, stratify=df['Category'])\n",
    "\n",
    "train_files = pd.DataFrame(train_files)\n",
    "test_files = pd.DataFrame(test_files)\n",
    "train_files['Category'] = train_labels\n",
    "test_files['Category'] = test_labels\n",
    "\n",
    "train_files.shape, test_files.shape"
   ]
  },
  {
   "cell_type": "code",
   "execution_count": 21,
   "metadata": {
    "execution": {
     "iopub.execute_input": "2022-03-22T13:12:32.898743Z",
     "iopub.status.busy": "2022-03-22T13:12:32.898364Z",
     "iopub.status.idle": "2022-03-22T13:12:32.911948Z",
     "shell.execute_reply": "2022-03-22T13:12:32.910766Z",
     "shell.execute_reply.started": "2022-03-22T13:12:32.898680Z"
    }
   },
   "outputs": [],
   "source": [
    "train_files.head(5)"
   ]
  },
  {
   "cell_type": "code",
   "execution_count": 22,
   "metadata": {
    "execution": {
     "iopub.execute_input": "2022-03-22T13:12:32.914626Z",
     "iopub.status.busy": "2022-03-22T13:12:32.914006Z",
     "iopub.status.idle": "2022-03-22T13:12:32.931370Z",
     "shell.execute_reply": "2022-03-22T13:12:32.929966Z",
     "shell.execute_reply.started": "2022-03-22T13:12:32.914551Z"
    }
   },
   "outputs": [],
   "source": [
    "train_files['Category'].value_counts()"
   ]
  },
  {
   "cell_type": "code",
   "execution_count": 23,
   "metadata": {
    "execution": {
     "iopub.execute_input": "2022-03-22T13:12:32.933415Z",
     "iopub.status.busy": "2022-03-22T13:12:32.933050Z",
     "iopub.status.idle": "2022-03-22T13:12:32.947241Z",
     "shell.execute_reply": "2022-03-22T13:12:32.945085Z",
     "shell.execute_reply.started": "2022-03-22T13:12:32.933372Z"
    }
   },
   "outputs": [],
   "source": [
    "test_files['Category'].value_counts()"
   ]
  },
  {
   "cell_type": "markdown",
   "metadata": {},
   "source": [
    "### Data augmentation"
   ]
  },
  {
   "cell_type": "code",
   "execution_count": 24,
   "metadata": {
    "execution": {
     "iopub.execute_input": "2022-03-22T13:12:32.949504Z",
     "iopub.status.busy": "2022-03-22T13:12:32.949204Z",
     "iopub.status.idle": "2022-03-22T13:12:32.956940Z",
     "shell.execute_reply": "2022-03-22T13:12:32.955650Z",
     "shell.execute_reply.started": "2022-03-22T13:12:32.949475Z"
    }
   },
   "outputs": [],
   "source": [
    "# Аугментация данных очень важна когда у нас не большой датасет (как в нашем случае)\n",
    "\n",
    "train_datagen = ImageDataGenerator(rescale=1. / 255, horizontal_flip=False)\n",
    "test_datagen = ImageDataGenerator(rescale=1. / 255)"
   ]
  },
  {
   "cell_type": "markdown",
   "metadata": {},
   "source": [
    "### datagen"
   ]
  },
  {
   "cell_type": "code",
   "execution_count": 25,
   "metadata": {
    "execution": {
     "iopub.execute_input": "2022-03-22T13:12:32.959609Z",
     "iopub.status.busy": "2022-03-22T13:12:32.958918Z",
     "iopub.status.idle": "2022-03-22T13:12:33.093452Z",
     "shell.execute_reply": "2022-03-22T13:12:33.092240Z",
     "shell.execute_reply.started": "2022-03-22T13:12:32.959563Z"
    }
   },
   "outputs": [],
   "source": [
    "# \"Заворачиваем\" наши данные в generator\n",
    "\n",
    "train_generator = train_datagen.flow_from_dataframe(\n",
    "    dataframe=train_files,\n",
    "    directory=PATH,\n",
    "    x_col=\"Id\",\n",
    "    y_col=\"Category\",\n",
    "    target_size=(IMG_SIZE, IMG_SIZE),\n",
    "    batch_size=BATCH_SIZE,\n",
    "    class_mode='categorical',\n",
    "    shuffle=True, \n",
    "    seed=RANDOM_SEED,)\n",
    "\n",
    "test_generator = test_datagen.flow_from_dataframe(\n",
    "    dataframe=test_files,\n",
    "    directory=PATH,\n",
    "    x_col=\"Id\",\n",
    "    y_col=\"Category\",\n",
    "    target_size=(IMG_SIZE, IMG_SIZE),\n",
    "    batch_size=BATCH_SIZE,\n",
    "    class_mode='categorical',\n",
    "    shuffle=False, \n",
    "    seed=RANDOM_SEED,)"
   ]
  },
  {
   "cell_type": "code",
   "execution_count": 26,
   "metadata": {
    "execution": {
     "iopub.execute_input": "2022-03-22T13:12:33.096187Z",
     "iopub.status.busy": "2022-03-22T13:12:33.095809Z",
     "iopub.status.idle": "2022-03-22T13:12:35.707243Z",
     "shell.execute_reply": "2022-03-22T13:12:35.705811Z",
     "shell.execute_reply.started": "2022-03-22T13:12:33.096145Z"
    }
   },
   "outputs": [],
   "source": [
    "from skimage import io\n",
    "\n",
    "def imshow(image_RGB):\n",
    "  io.imshow(image_RGB)\n",
    "  io.show()\n",
    "\n",
    "x,y = train_generator.next()\n",
    "print('Пример картинок из train_generator')\n",
    "plt.figure(figsize=(12,8))\n",
    "\n",
    "for i in range(0,9):\n",
    "    image = x[i]\n",
    "    plt.subplot(3,3, i+1)\n",
    "    plt.imshow(image)\n",
    "    #plt.title('Class: '+str(y[i]))\n",
    "    #plt.axis('off')\n",
    "plt.show()"
   ]
  },
  {
   "cell_type": "code",
   "execution_count": 27,
   "metadata": {
    "execution": {
     "iopub.execute_input": "2022-03-22T13:12:35.709682Z",
     "iopub.status.busy": "2022-03-22T13:12:35.709046Z",
     "iopub.status.idle": "2022-03-22T13:12:37.977748Z",
     "shell.execute_reply": "2022-03-22T13:12:37.976726Z",
     "shell.execute_reply.started": "2022-03-22T13:12:35.709635Z"
    }
   },
   "outputs": [],
   "source": [
    "x,y = test_generator.next()\n",
    "print('Пример картинок из test_generator')\n",
    "plt.figure(figsize=(12,8))\n",
    "\n",
    "for i in range(0,9):\n",
    "    image = x[i]\n",
    "    plt.subplot(3,3, i+1)\n",
    "    plt.imshow(image)\n",
    "    #plt.title('Class: '+str(y[i]))\n",
    "    #plt.axis('off')\n",
    "plt.show()"
   ]
  },
  {
   "cell_type": "markdown",
   "metadata": {},
   "source": [
    "# Model"
   ]
  },
  {
   "cell_type": "code",
   "execution_count": 28,
   "metadata": {
    "execution": {
     "iopub.execute_input": "2022-03-22T13:12:37.980192Z",
     "iopub.status.busy": "2022-03-22T13:12:37.979559Z",
     "iopub.status.idle": "2022-03-22T13:12:37.987196Z",
     "shell.execute_reply": "2022-03-22T13:12:37.986128Z",
     "shell.execute_reply.started": "2022-03-22T13:12:37.980143Z"
    }
   },
   "outputs": [],
   "source": [
    "input_shape"
   ]
  },
  {
   "cell_type": "code",
   "execution_count": 29,
   "metadata": {
    "execution": {
     "iopub.execute_input": "2022-03-22T13:12:37.989630Z",
     "iopub.status.busy": "2022-03-22T13:12:37.988916Z",
     "iopub.status.idle": "2022-03-22T13:12:38.882842Z",
     "shell.execute_reply": "2022-03-22T13:12:38.881963Z",
     "shell.execute_reply.started": "2022-03-22T13:12:37.989586Z"
    }
   },
   "outputs": [],
   "source": [
    "model = M.Sequential()\n",
    "\n",
    "# model layer 1\n",
    "model.add(L.Convolution2D(128, (3, 3), input_shape=input_shape, activation='relu', padding='same',))\n",
    "model.add(L.BatchNormalization())\n",
    "model.add(L.Convolution2D(128, (3, 3), activation='relu', padding='same',))\n",
    "model.add(L.BatchNormalization())\n",
    "\n",
    "# Pooling layer 1\n",
    "model.add(L.MaxPooling2D(pool_size=(2,2)))\n",
    "model.add(L.Dropout(0.2))\n",
    "\n",
    "# model and pooling layer 2\n",
    "model.add(L.Convolution2D(256, (3, 3), activation='relu', padding='same',))\n",
    "model.add(L.BatchNormalization())\n",
    "model.add(L.Convolution2D(256, (3, 3), activation='relu', padding='same',))\n",
    "model.add(L.BatchNormalization())\n",
    "\n",
    "model.add(L.MaxPooling2D(pool_size=(2,2)))\n",
    "model.add(L.Dropout(0.3))\n",
    "\n",
    "# model and pooling layer 3.\n",
    "model.add(L.Convolution2D(512, (3, 3), activation='relu', padding='same',))\n",
    "model.add(L.BatchNormalization())\n",
    "model.add(L.Convolution2D(512, (3, 3), activation='relu', padding='same',))\n",
    "model.add(L.BatchNormalization())\n",
    "\n",
    "model.add(L.MaxPooling2D(pool_size=(2,2)))\n",
    "model.add(L.Dropout(0.3))\n",
    "\n",
    "\n",
    "# Flattening\n",
    "model.add(L.Flatten())\n",
    "\n",
    "# Full connection\n",
    "model.add(L.Dense(512, activation='relu'))\n",
    "model.add(L.Dropout(0.25))\n",
    "model.add(L.Dense(CLASS_NUM, activation='softmax'))"
   ]
  },
  {
   "cell_type": "code",
   "execution_count": 30,
   "metadata": {
    "_kg_hide-output": true,
    "execution": {
     "iopub.execute_input": "2022-03-22T13:12:38.884803Z",
     "iopub.status.busy": "2022-03-22T13:12:38.884426Z",
     "iopub.status.idle": "2022-03-22T13:12:38.902895Z",
     "shell.execute_reply": "2022-03-22T13:12:38.899250Z",
     "shell.execute_reply.started": "2022-03-22T13:12:38.884759Z"
    }
   },
   "outputs": [],
   "source": [
    "model.summary()"
   ]
  },
  {
   "cell_type": "code",
   "execution_count": 31,
   "metadata": {
    "execution": {
     "iopub.execute_input": "2022-03-22T13:12:38.908237Z",
     "iopub.status.busy": "2022-03-22T13:12:38.907989Z",
     "iopub.status.idle": "2022-03-22T13:12:38.915091Z",
     "shell.execute_reply": "2022-03-22T13:12:38.914108Z",
     "shell.execute_reply.started": "2022-03-22T13:12:38.908210Z"
    }
   },
   "outputs": [],
   "source": [
    "# сколько слоев\n",
    "print(len(model.layers))"
   ]
  },
  {
   "cell_type": "code",
   "execution_count": 32,
   "metadata": {
    "execution": {
     "iopub.execute_input": "2022-03-22T13:12:38.917068Z",
     "iopub.status.busy": "2022-03-22T13:12:38.916677Z",
     "iopub.status.idle": "2022-03-22T13:12:38.932259Z",
     "shell.execute_reply": "2022-03-22T13:12:38.927610Z",
     "shell.execute_reply.started": "2022-03-22T13:12:38.917022Z"
    }
   },
   "outputs": [],
   "source": [
    "len(model.trainable_variables)"
   ]
  },
  {
   "cell_type": "markdown",
   "metadata": {},
   "source": [
    "## Fit"
   ]
  },
  {
   "cell_type": "code",
   "execution_count": 33,
   "metadata": {
    "execution": {
     "iopub.execute_input": "2022-03-22T13:12:38.934187Z",
     "iopub.status.busy": "2022-03-22T13:12:38.933826Z",
     "iopub.status.idle": "2022-03-22T13:12:38.991387Z",
     "shell.execute_reply": "2022-03-22T13:12:38.990555Z",
     "shell.execute_reply.started": "2022-03-22T13:12:38.934144Z"
    }
   },
   "outputs": [],
   "source": [
    "#LR=0.0001\n",
    "model.compile(loss=\"categorical_crossentropy\", optimizer=optimizers.Adamax(lr=LR), metrics=[\"accuracy\"])"
   ]
  },
  {
   "cell_type": "code",
   "execution_count": 34,
   "metadata": {
    "execution": {
     "iopub.execute_input": "2022-03-22T13:12:38.993342Z",
     "iopub.status.busy": "2022-03-22T13:12:38.993007Z",
     "iopub.status.idle": "2022-03-22T13:12:38.999835Z",
     "shell.execute_reply": "2022-03-22T13:12:38.998173Z",
     "shell.execute_reply.started": "2022-03-22T13:12:38.993299Z"
    }
   },
   "outputs": [],
   "source": [
    "checkpoint = ModelCheckpoint('best_model.hdf5' , monitor = ['val_accuracy'] , verbose = 1  , mode = 'max')\n",
    "earlystop = EarlyStopping(monitor='val_accuracy', patience=5, restore_best_weights=True)\n",
    "callbacks_list = [checkpoint, earlystop]"
   ]
  },
  {
   "cell_type": "code",
   "execution_count": 35,
   "metadata": {
    "execution": {
     "iopub.execute_input": "2022-03-22T13:12:39.002291Z",
     "iopub.status.busy": "2022-03-22T13:12:39.001486Z",
     "iopub.status.idle": "2022-03-22T13:12:45.425538Z",
     "shell.execute_reply": "2022-03-22T13:12:45.424615Z",
     "shell.execute_reply.started": "2022-03-22T13:12:39.002219Z"
    }
   },
   "outputs": [],
   "source": [
    "scores = model.evaluate_generator(test_generator, steps=1, verbose=1)\n",
    "print(\"Accuracy: %.2f%%\" % (scores[1]*100))"
   ]
  },
  {
   "cell_type": "code",
   "execution_count": null,
   "metadata": {
    "execution": {
     "iopub.execute_input": "2022-03-22T13:12:45.429528Z",
     "iopub.status.busy": "2022-03-22T13:12:45.428817Z"
    }
   },
   "outputs": [],
   "source": [
    "# Обучаем\n",
    "history = model.fit_generator(\n",
    "        train_generator,\n",
    "        steps_per_epoch = train_generator.samples//train_generator.batch_size,\n",
    "        validation_data = test_generator, \n",
    "        validation_steps = test_generator.samples//test_generator.batch_size,\n",
    "        epochs = EPOCHS,\n",
    "        callbacks = callbacks_list\n",
    ")"
   ]
  },
  {
   "cell_type": "code",
   "execution_count": null,
   "metadata": {},
   "outputs": [],
   "source": [
    "model.save('../working/model_last.hdf5')\n",
    "model.load_weights('best_model.hdf5')"
   ]
  },
  {
   "cell_type": "code",
   "execution_count": null,
   "metadata": {},
   "outputs": [],
   "source": [
    "scores = model.evaluate_generator(test_generator, steps=1, verbose=1)\n",
    "print(\"Accuracy: %.2f%%\" % (scores[1]*100))"
   ]
  },
  {
   "cell_type": "code",
   "execution_count": null,
   "metadata": {
    "_kg_hide-input": true
   },
   "outputs": [],
   "source": [
    "def plot_history(history):\n",
    "    plt.figure(figsize=(10,5))\n",
    "    acc = history.history['accuracy']\n",
    "    val_acc = history.history['val_accuracy']\n",
    "    loss = history.history['loss']\n",
    "    val_loss = history.history['val_loss']\n",
    "\n",
    "    epochs = range(len(acc))\n",
    "\n",
    "    plt.plot(epochs, acc, 'b', label='Training acc')\n",
    "    plt.plot(epochs, val_acc, 'r', label='Validation acc')\n",
    "    plt.title('Training and validation accuracy')\n",
    "    plt.legend()\n",
    "\n",
    "    #plt.figure()\n",
    "    plt.figure(figsize=(10,5))\n",
    "    plt.plot(epochs, loss, 'b', label='Training loss')\n",
    "    plt.plot(epochs, val_loss, 'r', label='Validation loss')\n",
    "    plt.title('Training and validation loss')\n",
    "    plt.legend()\n",
    "\n",
    "    plt.show()\n",
    "\n",
    "plot_history(history)"
   ]
  },
  {
   "cell_type": "code",
   "execution_count": null,
   "metadata": {
    "_kg_hide-input": true
   },
   "outputs": [],
   "source": [
    "# Clean PATH\n",
    "import shutil\n",
    "shutil.rmtree(PATH)"
   ]
  },
  {
   "cell_type": "code",
   "execution_count": null,
   "metadata": {},
   "outputs": [],
   "source": []
  }
 ],
 "metadata": {
  "kernelspec": {
   "display_name": "Python 3 (ipykernel)",
   "language": "python",
   "name": "python3"
  },
  "language_info": {
   "codemirror_mode": {
    "name": "ipython",
    "version": 3
   },
   "file_extension": ".py",
   "mimetype": "text/x-python",
   "name": "python",
   "nbconvert_exporter": "python",
   "pygments_lexer": "ipython3",
   "version": "3.9.7"
  }
 },
 "nbformat": 4,
 "nbformat_minor": 4
}
