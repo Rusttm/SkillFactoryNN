{
 "cells": [
  {
   "cell_type": "markdown",
   "metadata": {
    "id": "gWohvxTubkJF"
   },
   "source": [
    "# Свертки в Keras\n",
    "\n",
    "Будем использовать Fashion MNIST"
   ]
  },
  {
   "cell_type": "code",
   "execution_count": null,
   "metadata": {
    "colab": {
     "base_uri": "https://localhost:8080/",
     "height": 85
    },
    "id": "j1cE-NHC230I",
    "outputId": "a9545f46-cc7a-4fd6-aad5-cf65c008cf77"
   },
   "outputs": [
    {
     "name": "stdout",
     "output_type": "stream",
     "text": [
      "\u001b[K     |████████████████████████████████| 421.8MB 37kB/s \n",
      "\u001b[K     |████████████████████████████████| 450kB 50.4MB/s \n",
      "\u001b[K     |████████████████████████████████| 3.9MB 48.4MB/s \n",
      "\u001b[?25h  Building wheel for gast (setup.py) ... \u001b[?25l\u001b[?25hdone\n"
     ]
    }
   ],
   "source": [
    "!pip install -q tensorflow==2.1"
   ]
  },
  {
   "cell_type": "code",
   "execution_count": 1,
   "metadata": {
    "colab": {
     "base_uri": "https://localhost:8080/",
     "height": 51
    },
    "id": "xtgpb91EbkJJ",
    "outputId": "c2240086-a8a0-4202-a73d-2b8365177ee5"
   },
   "outputs": [
    {
     "name": "stdout",
     "output_type": "stream",
     "text": [
      "Init Plugin\n",
      "We're using TF 2.5.0\n",
      "Init Graph Optimizer\n",
      "Init Kernel\n",
      "We are using Keras 2.5.0\n"
     ]
    }
   ],
   "source": [
    "import numpy as np\n",
    "from sklearn.metrics import accuracy_score\n",
    "from matplotlib import pyplot as plt\n",
    "%matplotlib inline\n",
    "import tensorflow as tf\n",
    "print(\"We're using TF\", tf.__version__)\n",
    "import tensorflow.keras as keras\n",
    "import tensorflow.keras.models as M\n",
    "import tensorflow.keras.layers as L\n",
    "import tensorflow.keras.backend as K\n",
    "print(\"We are using Keras\", keras.__version__)\n",
    "import pandas as pd"
   ]
  },
  {
   "cell_type": "code",
   "execution_count": 2,
   "metadata": {
    "colab": {
     "base_uri": "https://localhost:8080/",
     "height": 34
    },
    "id": "-4LwMoWC3CuX",
    "outputId": "0142727c-1538-47c9-f268-8f001f8d14e3"
   },
   "outputs": [
    {
     "name": "stderr",
     "output_type": "stream",
     "text": [
      "2022-03-11 10:21:10.264912: I tensorflow/core/common_runtime/pluggable_device/pluggable_device_factory.cc:305] Could not identify NUMA node of platform GPU ID 0, defaulting to 0. Your kernel may not have been built with NUMA support.\n",
      "2022-03-11 10:21:10.265060: I tensorflow/core/common_runtime/pluggable_device/pluggable_device_factory.cc:271] Created TensorFlow device (/device:GPU:0 with 0 MB memory) -> physical PluggableDevice (device: 0, name: METAL, pci bus id: <undefined>)\n"
     ]
    },
    {
     "data": {
      "text/plain": [
       "'/device:GPU:0'"
      ]
     },
     "execution_count": 2,
     "metadata": {},
     "output_type": "execute_result"
    },
    {
     "name": "stdout",
     "output_type": "stream",
     "text": [
      "Metal device set to: Apple M1\n"
     ]
    }
   ],
   "source": [
    "# Проверяем что у нас работает GPU\n",
    "tf.test.gpu_device_name()"
   ]
  },
  {
   "cell_type": "code",
   "execution_count": 3,
   "metadata": {
    "colab": {
     "base_uri": "https://localhost:8080/",
     "height": 34
    },
    "id": "leCBt1jY3E9Y",
    "outputId": "59aaec04-d5d5-46d4-bf89-44430a5f2979"
   },
   "outputs": [
    {
     "name": "stdout",
     "output_type": "stream",
     "text": [
      "zsh:1: command not found: nvidia-smi\r\n"
     ]
    }
   ],
   "source": [
    "#GPU count and name\n",
    "!nvidia-smi -L"
   ]
  },
  {
   "cell_type": "markdown",
   "metadata": {
    "id": "bpgb9XRbbkJM"
   },
   "source": [
    "# Загрузим данные\n",
    "\n",
    "Классы:\n",
    "```\n",
    "0 T-shirt/top \n",
    "1 Trouser \n",
    "2 Pullover \n",
    "3 Dress \n",
    "4 Coat \n",
    "5 Sandal \n",
    "6 Shirt \n",
    "7 Sneaker \n",
    "8 Bag \n",
    "9 Ankle boot\n",
    "```\n",
    "\n",
    "\n"
   ]
  },
  {
   "cell_type": "code",
   "execution_count": 4,
   "metadata": {
    "colab": {
     "base_uri": "https://localhost:8080/",
     "height": 153
    },
    "id": "urm1aZJwjQkC",
    "outputId": "a04de8bb-c7ba-47dc-b524-a43dcf0b3b9c"
   },
   "outputs": [],
   "source": [
    "(x_train, y_train), (x_val, y_val) = tf.keras.datasets.fashion_mnist.load_data()"
   ]
  },
  {
   "cell_type": "code",
   "execution_count": 5,
   "metadata": {
    "colab": {
     "base_uri": "https://localhost:8080/",
     "height": 85
    },
    "id": "JXxm8f9Dupqb",
    "outputId": "392bc055-bd09-4c96-aa2f-f2dad515be33"
   },
   "outputs": [
    {
     "name": "stdout",
     "output_type": "stream",
     "text": [
      "(60000, 28, 28)\n",
      "(10000, 28, 28)\n",
      "[9 0 0 3 0 2 7 2 5 5]\n",
      "[9 2 1 1 6 1 4 6 5 7]\n"
     ]
    }
   ],
   "source": [
    "print(x_train.shape)\n",
    "print(x_val.shape)\n",
    "print (y_train[:10])\n",
    "print (y_val[:10])"
   ]
  },
  {
   "cell_type": "code",
   "execution_count": 6,
   "metadata": {
    "colab": {
     "base_uri": "https://localhost:8080/",
     "height": 581
    },
    "id": "yW57DlfmbkJP",
    "outputId": "8d1fec81-cdd6-47a3-8c0f-1de5511d935b"
   },
   "outputs": [
    {
     "name": "stdout",
     "output_type": "stream",
     "text": [
      "Пример кусочка картинки:\n"
     ]
    },
    {
     "data": {
      "image/png": "[encoded data removed]",
      "text/plain": [
       "<Figure size 432x288 with 1 Axes>"
      ]
     },
     "metadata": {
      "needs_background": "light"
     },
     "output_type": "display_data"
    },
    {
     "name": "stdout",
     "output_type": "stream",
     "text": [
      "Пример картинки:\n"
     ]
    },
    {
     "data": {
      "image/png": "[encoded data removed]",
      "text/plain": [
       "<Figure size 432x288 with 1 Axes>"
      ]
     },
     "metadata": {
      "needs_background": "light"
     },
     "output_type": "display_data"
    },
    {
     "name": "stdout",
     "output_type": "stream",
     "text": [
      "y_train [shape (60000,)] 10 примеров:\n",
      " [9 0 0 3 0 2 7 2 5 5]\n"
     ]
    }
   ],
   "source": [
    "x_train_image = np.tile(x_train[5, :, :].reshape((28, 28))[:, :, np.newaxis], (1, 1, 3))\n",
    "print(\"Пример кусочка картинки:\")\n",
    "plt.imshow(x_train_image[15:20, 5:10], cmap=\"Greys\")\n",
    "plt.show()\n",
    "print(\"Пример картинки:\")\n",
    "plt.imshow(x_train_image, cmap=\"Greys\")\n",
    "plt.show()\n",
    "print(\"y_train [shape %s] 10 примеров:\\n\" % (str(y_train.shape)), y_train[:10])"
   ]
  },
  {
   "cell_type": "code",
   "execution_count": 7,
   "metadata": {
    "colab": {
     "base_uri": "https://localhost:8080/",
     "height": 119
    },
    "id": "Ntmlh71gbkJU",
    "outputId": "aae5c0fc-d557-4b65-aa8d-0024e349aca5"
   },
   "outputs": [
    {
     "name": "stdout",
     "output_type": "stream",
     "text": [
      "(60000, 10)\n",
      "[[0. 0. 0. 0. 0. 0. 0. 0. 0. 1.]\n",
      " [1. 0. 0. 0. 0. 0. 0. 0. 0. 0.]\n",
      " [1. 0. 0. 0. 0. 0. 0. 0. 0. 0.]\n",
      " [0. 0. 0. 1. 0. 0. 0. 0. 0. 0.]\n",
      " [1. 0. 0. 0. 0. 0. 0. 0. 0. 0.]] [9 0 0 3 0]\n"
     ]
    }
   ],
   "source": [
    "# one-hot encode для ответов\n",
    "y_train_oh = keras.utils.to_categorical(y_train, 10)\n",
    "y_val_oh = keras.utils.to_categorical(y_val, 10)\n",
    "\n",
    "print(y_train_oh.shape)\n",
    "print(y_train_oh[:5], y_train[:5])"
   ]
  },
  {
   "cell_type": "markdown",
   "metadata": {
    "id": "sFdgl0owpaff"
   },
   "source": [
    "# Собираем модель"
   ]
  },
  {
   "cell_type": "markdown",
   "metadata": {
    "id": "2br7Y727oGH5"
   },
   "source": [
    "Будем как и в предыдущем модуле минимизировать кросс-энтропию."
   ]
  },
  {
   "cell_type": "code",
   "execution_count": 8,
   "metadata": {},
   "outputs": [],
   "source": [
    "# model.add(L.Conv2D(1, kernel_size=3, strides=1, padding='same', input_shape=(28, 28, 1)))"
   ]
  },
  {
   "cell_type": "code",
   "execution_count": 34,
   "metadata": {},
   "outputs": [],
   "source": [
    "# temp version\n",
    "\n",
    "K.clear_session()\n",
    "model = M.Sequential()\n",
    "model.add(L.Conv2D(filters=32, kernel_size=(3, 3) , strides=(1, 1), padding='valid', input_shape=(28, 28, 1)))\n",
    "model.add(L.Conv2D(filters=64, kernel_size=(3, 3) , strides=(1, 1), padding='valid'))\n",
    "\n",
    "\n"
   ]
  },
  {
   "cell_type": "code",
   "execution_count": 35,
   "metadata": {},
   "outputs": [
    {
     "data": {
      "text/plain": [
       "18496"
      ]
     },
     "execution_count": 35,
     "metadata": {},
     "output_type": "execute_result"
    }
   ],
   "source": [
    "(3*3*32+1)*64"
   ]
  },
  {
   "cell_type": "code",
   "execution_count": 36,
   "metadata": {
    "colab": {
     "base_uri": "https://localhost:8080/",
     "height": 425
    },
    "id": "oAyTk_FAbkJZ",
    "outputId": "b6f32c28-0ad2-444f-f1b8-ffd432d5403f"
   },
   "outputs": [
    {
     "name": "stdout",
     "output_type": "stream",
     "text": [
      "Model: \"sequential\"\n",
      "_________________________________________________________________\n",
      "Layer (type)                 Output Shape              Param #   \n",
      "=================================================================\n",
      "conv2d (Conv2D)              (None, 26, 26, 32)        320       \n",
      "_________________________________________________________________\n",
      "conv2d_1 (Conv2D)            (None, 24, 24, 64)        18496     \n",
      "=================================================================\n",
      "Total params: 18,816\n",
      "Trainable params: 18,816\n",
      "Non-trainable params: 0\n",
      "_________________________________________________________________\n"
     ]
    }
   ],
   "source": [
    "# padding='valid' -exclude non filled filter\n",
    "model.summary()"
   ]
  },
  {
   "cell_type": "code",
   "execution_count": 47,
   "metadata": {},
   "outputs": [],
   "source": [
    "# temp version\n",
    "\n",
    "K.clear_session()\n",
    "model = M.Sequential()\n",
    "model.add(L.Conv2D(filters=1, kernel_size=(3, 3) , strides=(1, 1), padding='valid', input_shape=(28, 28, 1)))\n",
    "model.add(L.Flatten())\n",
    "model.add(L.Dense(10, activation='softmax'))\n"
   ]
  },
  {
   "cell_type": "code",
   "execution_count": 48,
   "metadata": {
    "colab": {
     "base_uri": "https://localhost:8080/",
     "height": 425
    },
    "id": "oAyTk_FAbkJZ",
    "outputId": "b6f32c28-0ad2-444f-f1b8-ffd432d5403f"
   },
   "outputs": [
    {
     "name": "stdout",
     "output_type": "stream",
     "text": [
      "Model: \"sequential\"\n",
      "_________________________________________________________________\n",
      "Layer (type)                 Output Shape              Param #   \n",
      "=================================================================\n",
      "conv2d (Conv2D)              (None, 26, 26, 1)         10        \n",
      "_________________________________________________________________\n",
      "flatten (Flatten)            (None, 676)               0         \n",
      "_________________________________________________________________\n",
      "dense (Dense)                (None, 10)                6770      \n",
      "=================================================================\n",
      "Total params: 6,780\n",
      "Trainable params: 6,780\n",
      "Non-trainable params: 0\n",
      "_________________________________________________________________\n"
     ]
    }
   ],
   "source": [
    "# padding='valid' -exclude non filled filter\n",
    "model.summary()"
   ]
  },
  {
   "cell_type": "code",
   "execution_count": 49,
   "metadata": {
    "id": "f75e-QsypY4a"
   },
   "outputs": [],
   "source": [
    "K.clear_session()\n",
    "\n",
    "# в этот раз используем картинку как вход без вытягивания в вектор!\n",
    "\n",
    "model = M.Sequential()\n",
    "model.add(L.Conv2D(16, kernel_size=(3, 3) , strides=(1, 1), padding='same', input_shape=(28, 28, 1)))\n",
    "model.add(L.MaxPool2D())\n",
    "model.add(L.Conv2D(32, kernel_size=3, strides=1, padding='same'))\n",
    "model.add(L.MaxPool2D())\n",
    "model.add(L.Conv2D(64, kernel_size=3, strides=1, padding='same'))\n",
    "model.add(L.MaxPool2D())\n",
    "model.add(L.Flatten())\n",
    "model.add(L.Dense(64, activation='elu'))\n",
    "model.add(L.Dense(10, activation='softmax'))"
   ]
  },
  {
   "cell_type": "code",
   "execution_count": 50,
   "metadata": {
    "colab": {
     "base_uri": "https://localhost:8080/",
     "height": 425
    },
    "id": "oAyTk_FAbkJZ",
    "outputId": "b6f32c28-0ad2-444f-f1b8-ffd432d5403f"
   },
   "outputs": [
    {
     "name": "stdout",
     "output_type": "stream",
     "text": [
      "Model: \"sequential\"\n",
      "_________________________________________________________________\n",
      "Layer (type)                 Output Shape              Param #   \n",
      "=================================================================\n",
      "conv2d (Conv2D)              (None, 28, 28, 16)        160       \n",
      "_________________________________________________________________\n",
      "max_pooling2d (MaxPooling2D) (None, 14, 14, 16)        0         \n",
      "_________________________________________________________________\n",
      "conv2d_1 (Conv2D)            (None, 14, 14, 32)        4640      \n",
      "_________________________________________________________________\n",
      "max_pooling2d_1 (MaxPooling2 (None, 7, 7, 32)          0         \n",
      "_________________________________________________________________\n",
      "conv2d_2 (Conv2D)            (None, 7, 7, 64)          18496     \n",
      "_________________________________________________________________\n",
      "max_pooling2d_2 (MaxPooling2 (None, 3, 3, 64)          0         \n",
      "_________________________________________________________________\n",
      "flatten (Flatten)            (None, 576)               0         \n",
      "_________________________________________________________________\n",
      "dense (Dense)                (None, 64)                36928     \n",
      "_________________________________________________________________\n",
      "dense_1 (Dense)              (None, 10)                650       \n",
      "=================================================================\n",
      "Total params: 60,874\n",
      "Trainable params: 60,874\n",
      "Non-trainable params: 0\n",
      "_________________________________________________________________\n"
     ]
    }
   ],
   "source": [
    "model.summary()"
   ]
  },
  {
   "cell_type": "code",
   "execution_count": 51,
   "metadata": {
    "id": "05_NRSnWbkJc"
   },
   "outputs": [],
   "source": [
    "model.compile(\n",
    "    loss='categorical_crossentropy',  # минимизируем кросс-энтропию\n",
    "    optimizer='adam',  # так будет быстрее, позже узнаем что это :)\n",
    "    metrics=['accuracy']  # выводим процент правильных ответов\n",
    ")"
   ]
  },
  {
   "cell_type": "code",
   "execution_count": 52,
   "metadata": {
    "id": "Tj7JoTt3rghC"
   },
   "outputs": [
    {
     "name": "stderr",
     "output_type": "stream",
     "text": [
      "/var/folders/_q/03tkk3nx5xq63qd_bldrts5h0000gn/T/ipykernel_12466/1114769542.py:2: DeprecationWarning: `np.float` is a deprecated alias for the builtin `float`. To silence this warning, use `float` by itself. Doing this will not modify any behavior and is safe. If you specifically wanted the numpy scalar type, use `np.float64` here.\n",
      "Deprecated in NumPy 1.20; for more details and guidance: https://numpy.org/devdocs/release/1.20.0-notes.html#deprecations\n",
      "  x_train_float = x_train.astype(np.float) / 255 - 0.5\n",
      "/var/folders/_q/03tkk3nx5xq63qd_bldrts5h0000gn/T/ipykernel_12466/1114769542.py:3: DeprecationWarning: `np.float` is a deprecated alias for the builtin `float`. To silence this warning, use `float` by itself. Doing this will not modify any behavior and is safe. If you specifically wanted the numpy scalar type, use `np.float64` here.\n",
      "Deprecated in NumPy 1.20; for more details and guidance: https://numpy.org/devdocs/release/1.20.0-notes.html#deprecations\n",
      "  x_val_float = x_val.astype(np.float) / 255 - 0.5\n"
     ]
    }
   ],
   "source": [
    "# центрируем и нормируем, так сети будет проще учиться (позже узнаем почему :)\n",
    "x_train_float = x_train.astype(np.float) / 255 - 0.5\n",
    "x_val_float = x_val.astype(np.float) / 255 - 0.5"
   ]
  },
  {
   "cell_type": "code",
   "execution_count": 55,
   "metadata": {},
   "outputs": [
    {
     "data": {
      "text/plain": [
       "(60000, 28, 28)"
      ]
     },
     "execution_count": 55,
     "metadata": {},
     "output_type": "execute_result"
    }
   ],
   "source": [
    "# x_train_float.shape"
   ]
  },
  {
   "cell_type": "code",
   "execution_count": null,
   "metadata": {},
   "outputs": [],
   "source": [
    "#добавляем фиктивную размерность 1 в конце\n",
    "# x_train_float[:, :, :, np.newaxis]\n"
   ]
  },
  {
   "cell_type": "code",
   "execution_count": 56,
   "metadata": {
    "colab": {
     "base_uri": "https://localhost:8080/",
     "height": 221
    },
    "id": "0c6R3wKWbkJf",
    "outputId": "50ea11c9-34b7-4bb5-9578-54878c215d4a"
   },
   "outputs": [
    {
     "name": "stderr",
     "output_type": "stream",
     "text": [
      "2022-03-11 11:26:50.892464: I tensorflow/compiler/mlir/mlir_graph_optimization_pass.cc:176] None of the MLIR Optimization Passes are enabled (registered 2)\n",
      "2022-03-11 11:26:50.895630: W tensorflow/core/platform/profile_utils/cpu_utils.cc:128] Failed to get CPU frequency: 0 Hz\n",
      "2022-03-11 11:26:51.092314: I tensorflow/core/grappler/optimizers/custom_graph_optimizer_registry.cc:112] Plugin optimizer for device_type GPU is enabled.\n"
     ]
    },
    {
     "name": "stdout",
     "output_type": "stream",
     "text": [
      "Epoch 1/20\n",
      "1871/1875 [============================>.] - ETA: 0s - loss: 0.4323 - accuracy: 0.8441"
     ]
    },
    {
     "name": "stderr",
     "output_type": "stream",
     "text": [
      "2022-03-11 11:27:11.926582: I tensorflow/core/grappler/optimizers/custom_graph_optimizer_registry.cc:112] Plugin optimizer for device_type GPU is enabled.\n"
     ]
    },
    {
     "name": "stdout",
     "output_type": "stream",
     "text": [
      "1875/1875 [==============================] - 23s 11ms/step - loss: 0.4322 - accuracy: 0.8441 - val_loss: 0.3298 - val_accuracy: 0.8803\n",
      "Epoch 2/20\n",
      "1875/1875 [==============================] - 19s 10ms/step - loss: 0.2886 - accuracy: 0.8954 - val_loss: 0.3022 - val_accuracy: 0.8875\n",
      "Epoch 3/20\n",
      "1875/1875 [==============================] - 20s 11ms/step - loss: 0.2467 - accuracy: 0.9074 - val_loss: 0.2672 - val_accuracy: 0.9023\n",
      "Epoch 4/20\n",
      "1875/1875 [==============================] - 20s 11ms/step - loss: 0.2173 - accuracy: 0.9191 - val_loss: 0.2890 - val_accuracy: 0.9005\n",
      "Epoch 5/20\n",
      "1875/1875 [==============================] - 20s 11ms/step - loss: 0.1941 - accuracy: 0.9281 - val_loss: 0.2691 - val_accuracy: 0.9012\n",
      "Epoch 6/20\n",
      "1875/1875 [==============================] - 20s 11ms/step - loss: 0.1723 - accuracy: 0.9359 - val_loss: 0.2589 - val_accuracy: 0.9068\n",
      "Epoch 7/20\n",
      "1875/1875 [==============================] - 20s 11ms/step - loss: 0.1536 - accuracy: 0.9422 - val_loss: 0.2666 - val_accuracy: 0.9100\n",
      "Epoch 8/20\n",
      "1875/1875 [==============================] - 20s 11ms/step - loss: 0.1368 - accuracy: 0.9480 - val_loss: 0.2789 - val_accuracy: 0.9096\n",
      "Epoch 9/20\n",
      "1875/1875 [==============================] - 21s 11ms/step - loss: 0.1213 - accuracy: 0.9539 - val_loss: 0.3018 - val_accuracy: 0.9103\n",
      "Epoch 10/20\n",
      "1875/1875 [==============================] - 20s 11ms/step - loss: 0.1087 - accuracy: 0.9593 - val_loss: 0.3145 - val_accuracy: 0.9085\n",
      "Epoch 11/20\n",
      "1875/1875 [==============================] - 19s 10ms/step - loss: 0.0983 - accuracy: 0.9631 - val_loss: 0.3385 - val_accuracy: 0.9094\n",
      "Epoch 12/20\n",
      "1875/1875 [==============================] - 18s 10ms/step - loss: 0.0882 - accuracy: 0.9668 - val_loss: 0.3666 - val_accuracy: 0.9064\n",
      "Epoch 13/20\n",
      "1875/1875 [==============================] - 18s 9ms/step - loss: 0.0819 - accuracy: 0.9690 - val_loss: 0.3984 - val_accuracy: 0.9052\n",
      "Epoch 14/20\n",
      "1875/1875 [==============================] - 18s 10ms/step - loss: 0.0746 - accuracy: 0.9711 - val_loss: 0.4009 - val_accuracy: 0.9086\n",
      "Epoch 15/20\n",
      "1875/1875 [==============================] - 21s 11ms/step - loss: 0.0676 - accuracy: 0.9750 - val_loss: 0.4475 - val_accuracy: 0.9004\n",
      "Epoch 16/20\n",
      "1875/1875 [==============================] - 21s 11ms/step - loss: 0.0650 - accuracy: 0.9756 - val_loss: 0.4611 - val_accuracy: 0.9056\n",
      "Epoch 17/20\n",
      "1875/1875 [==============================] - 21s 11ms/step - loss: 0.0620 - accuracy: 0.9770 - val_loss: 0.5078 - val_accuracy: 0.9017\n",
      "Epoch 18/20\n",
      "1875/1875 [==============================] - 21s 11ms/step - loss: 0.0558 - accuracy: 0.9785 - val_loss: 0.5261 - val_accuracy: 0.9067\n",
      "Epoch 19/20\n",
      "1875/1875 [==============================] - 21s 11ms/step - loss: 0.0508 - accuracy: 0.9808 - val_loss: 0.5141 - val_accuracy: 0.9033\n",
      "Epoch 20/20\n",
      "1875/1875 [==============================] - 21s 11ms/step - loss: 0.0530 - accuracy: 0.9806 - val_loss: 0.5619 - val_accuracy: 0.9048\n"
     ]
    },
    {
     "data": {
      "text/plain": [
       "<tensorflow.python.keras.callbacks.History at 0x28f6b6550>"
      ]
     },
     "execution_count": 56,
     "metadata": {},
     "output_type": "execute_result"
    }
   ],
   "source": [
    "model.fit(\n",
    "    x_train_float[:, :, :, np.newaxis], \n",
    "    y_train_oh,\n",
    "    batch_size=32, \n",
    "    epochs=20,\n",
    "    validation_data=(x_val_float[:, :, :, np.newaxis], y_val_oh)\n",
    ")"
   ]
  },
  {
   "cell_type": "code",
   "execution_count": null,
   "metadata": {
    "id": "EXK2Y6aZYQUW"
   },
   "outputs": [],
   "source": [
    "# https://www.cs.ryerson.ca/~aharley/vis/conv/flat.html"
   ]
  },
  {
   "cell_type": "code",
   "execution_count": 61,
   "metadata": {},
   "outputs": [
    {
     "data": {
      "image/png": "[encoded data removed]",
      "text/plain": [
       "<Figure size 864x360 with 8 Axes>"
      ]
     },
     "metadata": {
      "needs_background": "light"
     },
     "output_type": "display_data"
    }
   ],
   "source": [
    "import matplotlib.pyplot as plt \n",
    "import random\n",
    "plt.figure(figsize = (12,5))\n",
    "for i in range(8):\n",
    "#     ind = random.randint(0, len(X_train))\n",
    "    ind = random.randint(0, 60000)\n",
    "    plt.subplot(240+1+i)\n",
    "    plt.imshow(x_train[ind])"
   ]
  },
  {
   "cell_type": "code",
   "execution_count": 63,
   "metadata": {},
   "outputs": [
    {
     "ename": "NameError",
     "evalue": "name 'x_test' is not defined",
     "output_type": "error",
     "traceback": [
      "\u001b[0;31m---------------------------------------------------------------------------\u001b[0m",
      "\u001b[0;31mNameError\u001b[0m                                 Traceback (most recent call last)",
      "\u001b[0;32m/var/folders/_q/03tkk3nx5xq63qd_bldrts5h0000gn/T/ipykernel_12466/2795726243.py\u001b[0m in \u001b[0;36m<module>\u001b[0;34m\u001b[0m\n\u001b[1;32m      4\u001b[0m \u001b[0mplt\u001b[0m\u001b[0;34m.\u001b[0m\u001b[0mfigure\u001b[0m\u001b[0;34m(\u001b[0m\u001b[0mfigsize\u001b[0m \u001b[0;34m=\u001b[0m \u001b[0;34m(\u001b[0m\u001b[0;36m12\u001b[0m\u001b[0;34m,\u001b[0m\u001b[0;36m7\u001b[0m\u001b[0;34m)\u001b[0m\u001b[0;34m)\u001b[0m\u001b[0;34m\u001b[0m\u001b[0;34m\u001b[0m\u001b[0m\n\u001b[1;32m      5\u001b[0m \u001b[0;32mfor\u001b[0m \u001b[0mi\u001b[0m \u001b[0;32min\u001b[0m \u001b[0mnp\u001b[0m\u001b[0;34m.\u001b[0m\u001b[0marange\u001b[0m\u001b[0;34m(\u001b[0m\u001b[0;36m8\u001b[0m\u001b[0;34m)\u001b[0m\u001b[0;34m:\u001b[0m\u001b[0;34m\u001b[0m\u001b[0;34m\u001b[0m\u001b[0m\n\u001b[0;32m----> 6\u001b[0;31m     \u001b[0mind\u001b[0m \u001b[0;34m=\u001b[0m \u001b[0mrandom\u001b[0m\u001b[0;34m.\u001b[0m\u001b[0mrandint\u001b[0m\u001b[0;34m(\u001b[0m\u001b[0;36m0\u001b[0m\u001b[0;34m,\u001b[0m\u001b[0mlen\u001b[0m\u001b[0;34m(\u001b[0m\u001b[0mx_test\u001b[0m\u001b[0;34m.\u001b[0m\u001b[0mshape\u001b[0m\u001b[0;34m[\u001b[0m\u001b[0;36m0\u001b[0m\u001b[0;34m]\u001b[0m\u001b[0;34m)\u001b[0m\u001b[0;34m)\u001b[0m\u001b[0;34m\u001b[0m\u001b[0;34m\u001b[0m\u001b[0m\n\u001b[0m\u001b[1;32m      7\u001b[0m     \u001b[0mimg\u001b[0m \u001b[0;34m=\u001b[0m \u001b[0mx_test\u001b[0m\u001b[0;34m[\u001b[0m\u001b[0mind\u001b[0m\u001b[0;34m]\u001b[0m\u001b[0;34m\u001b[0m\u001b[0;34m\u001b[0m\u001b[0m\n\u001b[1;32m      8\u001b[0m     \u001b[0mimg\u001b[0m \u001b[0;34m=\u001b[0m \u001b[0mimg\u001b[0m\u001b[0;34m.\u001b[0m\u001b[0mreshape\u001b[0m\u001b[0;34m(\u001b[0m\u001b[0;36m1\u001b[0m\u001b[0;34m,\u001b[0m\u001b[0;36m28\u001b[0m\u001b[0;34m,\u001b[0m\u001b[0;36m28\u001b[0m\u001b[0;34m,\u001b[0m\u001b[0;36m1\u001b[0m\u001b[0;34m)\u001b[0m\u001b[0;34m\u001b[0m\u001b[0;34m\u001b[0m\u001b[0m\n",
      "\u001b[0;31mNameError\u001b[0m: name 'x_test' is not defined"
     ]
    },
    {
     "data": {
      "text/plain": [
       "<Figure size 864x504 with 0 Axes>"
      ]
     },
     "metadata": {},
     "output_type": "display_data"
    }
   ],
   "source": [
    "# all categories\n",
    "cates = ['0', '1', '2', '3', '4', '5', '6', '7', '8', '9']\n",
    "\n",
    "plt.figure(figsize = (12,7))\n",
    "for i in np.arange(8):\n",
    "    ind = random.randint(0,len(x_test.shape[0]))\n",
    "    img = x_test[ind]\n",
    "    img = img.reshape(1,28,28,1)\n",
    "    img = img.astype('float32')\n",
    "    img = img/255.0\n",
    "    v_p = LeNet_model.predict_classes(img)\n",
    "    plt.subplot(240+1+i)\n",
    "    plt.imshow(x_test[ind])\n",
    "    plt.title(cates[v_p[0]])"
   ]
  },
  {
   "cell_type": "code",
   "execution_count": null,
   "metadata": {},
   "outputs": [],
   "source": []
  },
  {
   "cell_type": "code",
   "execution_count": 78,
   "metadata": {},
   "outputs": [],
   "source": [
    "\n",
    "categories ={0:'T-shirt/top', 1:'Trouser', 2:'Pullover', 3:'Dress', 4:'Coat', 5:'Sandal', 6:'Shirt', 7:'Sneaker', 8:'Bag', 9:'Ankle boot'}"
   ]
  },
  {
   "cell_type": "code",
   "execution_count": 79,
   "metadata": {},
   "outputs": [
    {
     "data": {
      "text/plain": [
       "'T-shirt/top'"
      ]
     },
     "execution_count": 79,
     "metadata": {},
     "output_type": "execute_result"
    }
   ],
   "source": [
    "categories[0]"
   ]
  },
  {
   "cell_type": "code",
   "execution_count": 113,
   "metadata": {},
   "outputs": [
    {
     "data": {
      "image/png": "[encoded data removed]",
      "text/plain": [
       "<Figure size 864x504 with 8 Axes>"
      ]
     },
     "metadata": {
      "needs_background": "light"
     },
     "output_type": "display_data"
    }
   ],
   "source": [
    "# all categories\n",
    "cates = ['0', '1', '2', '3', '4', '5', '6', '7', '8', '9']\n",
    "\n",
    "plt.figure(figsize = (12,7))\n",
    "for i in np.arange(8):\n",
    "    ind = random.randint(0,len(x_val))\n",
    "    img = x_val[ind]\n",
    "    img = img.reshape(1,28,28,1)\n",
    "    img = img.astype('float32')\n",
    "    img = img/255.0\n",
    "    v_p = model.predict_classes(img)\n",
    "    vv_p = model.predict(img)\n",
    "    plt.subplot(240+1+i)\n",
    "#     plt.imshow(x_val[ind])\n",
    "    plt.imshow(x_val[ind])\n",
    "    plt.title(f'{categories[v_p[0]]}, {ind}, {v_p}' )"
   ]
  },
  {
   "cell_type": "code",
   "execution_count": 114,
   "metadata": {},
   "outputs": [
    {
     "data": {
      "text/plain": [
       "array([[5.9190836e-22, 2.9793193e-16, 2.9251168e-28, 2.5676479e-35,\n",
       "        1.2143879e-24, 1.0000000e+00, 9.7378306e-37, 6.3044209e-21,\n",
       "        0.0000000e+00, 9.6009931e-29]], dtype=float32)"
      ]
     },
     "execution_count": 114,
     "metadata": {},
     "output_type": "execute_result"
    }
   ],
   "source": [
    "vv_p"
   ]
  },
  {
   "cell_type": "code",
   "execution_count": 90,
   "metadata": {},
   "outputs": [
    {
     "data": {
      "text/plain": [
       "array([[  0,   0,   0,   0,   0,   0,   0,   0,   0,   0,   0,   0,   0,\n",
       "          6,   0,   0,   0,   0,   8,   0,   0,   0,   0,   0,   0,   0,\n",
       "          0,   0],\n",
       "       [  0,   0,   0,   0,   0,   0,   0,   0,   0,   0,   0,   2,   0,\n",
       "          0,  25,  95,  89,   0,   0,   2,   1,   1,   0,   0,   0,   0,\n",
       "          0,   0],\n",
       "       [  0,   0,   0,   0,   0,   0,   0,   0,   0,   0,   1,   0,   0,\n",
       "        144, 214, 174, 179, 209,  83,   0,   2,   0,   0,   0,   0,   0,\n",
       "          0,   0],\n",
       "       [  0,   0,   0,   0,   0,   0,   0,   0,   0,   0,   7,   0, 144,\n",
       "        184,   0,   0,   0,  46, 205,  62,   0,   4,   0,   0,   0,   0,\n",
       "          0,   0],\n",
       "       [  0,   0,   0,   0,   0,   0,   0,   0,   0,   3,   0,  65, 200,\n",
       "          0,   0,   0,   0,   0,  64, 173,   0,   5,   0,   0,   0,   0,\n",
       "          0,   0],\n",
       "       [  0,   0,   0,   0,   0,   0,   0,   0,   0,  11,   0, 140,  86,\n",
       "          0,   2,   0,   0,   0,   0, 160,  52,   0,   4,   0,   0,   0,\n",
       "          0,   0],\n",
       "       [  0,   0,   0,   0,   0,   0,   0,   0,   0,   0,   0, 163,   0,\n",
       "          0,   0,   0,   0,   2,   0, 116,  91,   0,   9,   0,   0,   0,\n",
       "          0,   0],\n",
       "       [  0,   0,   0,   1,   5,   4,   4,   3,   3,   0,   0, 164,   0,\n",
       "          0,   1,   2,   2,   7,   0, 108, 143,   0,   3,   0,   1,   1,\n",
       "          0,   0],\n",
       "       [  0,   0,   0,   0,   0,   0,   0,   0,   0,   0,   0, 246,   0,\n",
       "          0,   0,   0,   0,   0,   0, 119, 155,   0,   0,   0,   0,   0,\n",
       "          0,   0],\n",
       "       [  0,   1,   0,   0,  47,   1,   4,   0,   0,   0,  31, 255,   0,\n",
       "          0,   0,   0,   0,   0,   0, 145, 215,   0,   0,   0,   0,   0,\n",
       "          0,   0],\n",
       "       [  0,   0,   0,  69, 219, 204, 190, 205, 189, 155, 172, 199, 145,\n",
       "        194, 189, 185, 188, 202, 158, 167, 174, 126, 195, 178, 154, 146,\n",
       "        181,  62],\n",
       "       [  0,   0,  12,  82, 189, 210, 193, 185, 174, 187, 209, 210, 191,\n",
       "        189, 181, 177, 183, 188, 186, 178, 198, 154, 201, 197, 210, 187,\n",
       "        135,  20],\n",
       "       [  0,   0, 114,  12, 169, 212, 192, 190, 183, 187, 177, 179, 182,\n",
       "        185, 180, 178, 189, 177, 202, 192, 133, 187, 197, 195, 204, 187,\n",
       "        112,   0],\n",
       "       [  0,   0, 244,   7, 196, 220, 201, 195, 180, 170, 181, 187, 182,\n",
       "        187, 201, 201, 189, 184, 184, 210, 102, 206, 188, 196, 194, 198,\n",
       "        169,  10],\n",
       "       [  0,  88, 157,   0, 227, 225, 213, 206, 190, 160, 191, 197, 175,\n",
       "        181, 159, 160, 202, 195, 201, 224, 159, 212, 188, 194, 196, 209,\n",
       "        185,  12],\n",
       "       [  0, 143,  42,   0, 238, 222, 215, 218, 211, 197, 183, 187, 202,\n",
       "        203, 206, 212, 213, 217, 232, 118, 125, 147, 220, 210, 214, 219,\n",
       "        211,  24],\n",
       "       [  0, 181,   0,   0, 250, 218, 216, 220, 219, 213, 205, 193, 197,\n",
       "        203, 205, 228, 201, 217, 194, 124, 184, 148, 185, 225, 210, 219,\n",
       "        231,  29],\n",
       "       [  0, 188,   0,   0, 255, 215, 218, 218, 216, 210, 212, 203, 200,\n",
       "        212, 199, 212, 206, 214, 223, 146, 126, 122, 214, 219, 221, 220,\n",
       "        242,  51],\n",
       "       [  0, 188,   0,  28, 255, 211, 218, 218, 216, 215, 214, 208, 204,\n",
       "        207, 210, 232, 215, 215, 227, 218, 180, 219, 223, 217, 226, 222,\n",
       "        255,  78],\n",
       "       [  0, 186,   0,  73, 255, 208, 218, 218, 216, 214, 214, 214, 212,\n",
       "        206, 206, 219, 203, 223, 214, 207, 226, 216, 211, 213, 212, 209,\n",
       "        255, 100],\n",
       "       [  0, 185,   0, 107, 255, 208, 216, 217, 216, 215, 217, 220, 220,\n",
       "        212, 199, 199, 199, 203, 202, 208, 207, 212, 216, 219, 219, 213,\n",
       "        255, 127],\n",
       "       [  0, 168,   0, 125, 255, 202, 219, 215, 219, 217, 216, 218, 216,\n",
       "        217, 218, 214, 209, 203, 208, 212, 214, 214, 221, 225, 221, 219,\n",
       "        255, 154],\n",
       "       [  0,  69, 127, 129, 236, 199, 220, 218, 217, 215, 216, 219, 219,\n",
       "        218, 218, 220, 222, 224, 221, 221, 221, 222, 223, 225, 223, 219,\n",
       "        255, 155],\n",
       "       [  0,   0, 109, 238, 228, 203, 213, 218, 220, 221, 224, 226, 226,\n",
       "        226, 228, 227, 227, 227, 229, 229, 228, 229, 228, 231, 231, 225,\n",
       "        255, 165],\n",
       "       [  0,   0,   0, 184, 247, 231, 222, 222, 225, 229, 229, 224, 218,\n",
       "        221, 222, 221, 219, 218, 219, 220, 221, 222, 223, 226, 226, 223,\n",
       "        235, 158],\n",
       "       [  0,   0,   0, 164, 241, 226, 231, 231, 227, 226, 226, 232, 236,\n",
       "        232, 231, 231, 231, 231, 229, 229, 229, 228, 230, 233, 233, 230,\n",
       "        245, 204],\n",
       "       [  0,   0,   0, 234, 243, 231, 255, 255, 255, 255, 255, 249, 214,\n",
       "        214, 216, 216, 216, 217, 211, 210, 209, 211, 200, 186, 183, 172,\n",
       "        185, 102],\n",
       "       [  0,   0,   0,   4,  56,  78,  88,  94,  88,  73,  61,   0,   0,\n",
       "          0,   0,   0,   0,   0,   0,   0,   0,   0,   0,   0,   0,   0,\n",
       "          0,   0]], dtype=uint8)"
      ]
     },
     "execution_count": 90,
     "metadata": {},
     "output_type": "execute_result"
    }
   ],
   "source": [
    "x_val[30]"
   ]
  },
  {
   "cell_type": "code",
   "execution_count": 96,
   "metadata": {},
   "outputs": [
    {
     "data": {
      "text/plain": [
       "array([[[0.],\n",
       "        [0.],\n",
       "        [0.],\n",
       "        [0.],\n",
       "        [0.],\n",
       "        [0.],\n",
       "        [0.],\n",
       "        [0.],\n",
       "        [0.],\n",
       "        [0.],\n",
       "        [0.],\n",
       "        [0.],\n",
       "        [0.],\n",
       "        [0.],\n",
       "        [0.],\n",
       "        [0.],\n",
       "        [0.],\n",
       "        [0.],\n",
       "        [0.],\n",
       "        [0.],\n",
       "        [0.],\n",
       "        [0.],\n",
       "        [0.],\n",
       "        [0.],\n",
       "        [0.],\n",
       "        [0.],\n",
       "        [0.],\n",
       "        [0.]]], dtype=float32)"
      ]
     },
     "execution_count": 96,
     "metadata": {},
     "output_type": "execute_result"
    }
   ],
   "source": [
    "img[:,0,:,:]"
   ]
  },
  {
   "cell_type": "code",
   "execution_count": 100,
   "metadata": {},
   "outputs": [],
   "source": [
    "a = np.array([[1,2],[3,4]])"
   ]
  },
  {
   "cell_type": "code",
   "execution_count": 105,
   "metadata": {},
   "outputs": [
    {
     "data": {
      "text/plain": [
       "array([[[1],\n",
       "        [2]],\n",
       "\n",
       "       [[3],\n",
       "        [4]]])"
      ]
     },
     "execution_count": 105,
     "metadata": {},
     "output_type": "execute_result"
    }
   ],
   "source": [
    "a.reshape(2,2,1)"
   ]
  },
  {
   "cell_type": "code",
   "execution_count": null,
   "metadata": {},
   "outputs": [],
   "source": []
  }
 ],
 "metadata": {
  "accelerator": "GPU",
  "colab": {
   "collapsed_sections": [],
   "name": "SF_mod_3_skillfactory_dl_3_screencast_v2.ipynb",
   "provenance": []
  },
  "kernelspec": {
   "display_name": "Python 3 (ipykernel)",
   "language": "python",
   "name": "python3"
  },
  "language_info": {
   "codemirror_mode": {
    "name": "ipython",
    "version": 3
   },
   "file_extension": ".py",
   "mimetype": "text/x-python",
   "name": "python",
   "nbconvert_exporter": "python",
   "pygments_lexer": "ipython3",
   "version": "3.9.7"
  }
 },
 "nbformat": 4,
 "nbformat_minor": 1
}
